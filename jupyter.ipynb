{
 "cells": [
  {
   "cell_type": "code",
   "execution_count": 1,
   "metadata": {},
   "outputs": [],
   "source": [
    "from utils import load_encoder_hparams_and_params\n",
    "encoder, hparams, params = load_encoder_hparams_and_params(\"124M\", \"models\")"
   ]
  },
  {
   "cell_type": "code",
   "execution_count": 2,
   "metadata": {},
   "outputs": [
    {
     "data": {
      "text/plain": [
       "[3673, 477, 10281, 5806, 1451, 274, 13]"
      ]
     },
     "execution_count": 2,
     "metadata": {},
     "output_type": "execute_result"
    }
   ],
   "source": [
    "ids = encoder.encode(\"Not all heroes wear capes.\")\n",
    "ids"
   ]
  },
  {
   "cell_type": "code",
   "execution_count": 6,
   "metadata": {},
   "outputs": [
    {
     "data": {
      "text/plain": [
       "['Not', 'Ġall', 'Ġheroes', 'Ġwear', 'Ġcap', 'es', '.']"
      ]
     },
     "execution_count": 6,
     "metadata": {},
     "output_type": "execute_result"
    }
   ],
   "source": [
    "[encoder.decoder[i] for i in ids]"
   ]
  },
  {
   "cell_type": "code",
   "execution_count": 7,
   "metadata": {},
   "outputs": [
    {
     "data": {
      "text/plain": [
       "['z', 'j', 'q', 'fl']"
      ]
     },
     "execution_count": 7,
     "metadata": {},
     "output_type": "execute_result"
    }
   ],
   "source": [
    "[encoder.decoder[i] for i in encoder.encode(\"zjqfl\")]"
   ]
  },
  {
   "cell_type": "code",
   "execution_count": 8,
   "metadata": {},
   "outputs": [
    {
     "data": {
      "text/plain": [
       "50257"
      ]
     },
     "execution_count": 8,
     "metadata": {},
     "output_type": "execute_result"
    }
   ],
   "source": [
    "len(encoder.decoder)\n"
   ]
  },
  {
   "cell_type": "code",
   "execution_count": 9,
   "metadata": {},
   "outputs": [
    {
     "data": {
      "text/plain": [
       "{'n_vocab': 50257, 'n_ctx': 1024, 'n_embd': 768, 'n_head': 12, 'n_layer': 12}"
      ]
     },
     "execution_count": 9,
     "metadata": {},
     "output_type": "execute_result"
    }
   ],
   "source": [
    "hparams"
   ]
  },
  {
   "cell_type": "code",
   "execution_count": 10,
   "metadata": {},
   "outputs": [
    {
     "name": "stdout",
     "output_type": "stream",
     "text": [
      "{'blocks': [{'attn': {'c_attn': {'b': [2304], 'w': [768, 2304]}, 'c_proj': {'b': [768], 'w': [768, 768]}}, 'ln_1': {'b': [768], 'g': [768]}, 'ln_2': {'b': [768], 'g': [768]}, 'mlp': {'c_fc': {'b': [3072], 'w': [768, 3072]}, 'c_proj': {'b': [768], 'w': [3072, 768]}}}, {'attn': {'c_attn': {'b': [2304], 'w': [768, 2304]}, 'c_proj': {'b': [768], 'w': [768, 768]}}, 'ln_1': {'b': [768], 'g': [768]}, 'ln_2': {'b': [768], 'g': [768]}, 'mlp': {'c_fc': {'b': [3072], 'w': [768, 3072]}, 'c_proj': {'b': [768], 'w': [3072, 768]}}}, {'attn': {'c_attn': {'b': [2304], 'w': [768, 2304]}, 'c_proj': {'b': [768], 'w': [768, 768]}}, 'ln_1': {'b': [768], 'g': [768]}, 'ln_2': {'b': [768], 'g': [768]}, 'mlp': {'c_fc': {'b': [3072], 'w': [768, 3072]}, 'c_proj': {'b': [768], 'w': [3072, 768]}}}, {'attn': {'c_attn': {'b': [2304], 'w': [768, 2304]}, 'c_proj': {'b': [768], 'w': [768, 768]}}, 'ln_1': {'b': [768], 'g': [768]}, 'ln_2': {'b': [768], 'g': [768]}, 'mlp': {'c_fc': {'b': [3072], 'w': [768, 3072]}, 'c_proj': {'b': [768], 'w': [3072, 768]}}}, {'attn': {'c_attn': {'b': [2304], 'w': [768, 2304]}, 'c_proj': {'b': [768], 'w': [768, 768]}}, 'ln_1': {'b': [768], 'g': [768]}, 'ln_2': {'b': [768], 'g': [768]}, 'mlp': {'c_fc': {'b': [3072], 'w': [768, 3072]}, 'c_proj': {'b': [768], 'w': [3072, 768]}}}, {'attn': {'c_attn': {'b': [2304], 'w': [768, 2304]}, 'c_proj': {'b': [768], 'w': [768, 768]}}, 'ln_1': {'b': [768], 'g': [768]}, 'ln_2': {'b': [768], 'g': [768]}, 'mlp': {'c_fc': {'b': [3072], 'w': [768, 3072]}, 'c_proj': {'b': [768], 'w': [3072, 768]}}}, {'attn': {'c_attn': {'b': [2304], 'w': [768, 2304]}, 'c_proj': {'b': [768], 'w': [768, 768]}}, 'ln_1': {'b': [768], 'g': [768]}, 'ln_2': {'b': [768], 'g': [768]}, 'mlp': {'c_fc': {'b': [3072], 'w': [768, 3072]}, 'c_proj': {'b': [768], 'w': [3072, 768]}}}, {'attn': {'c_attn': {'b': [2304], 'w': [768, 2304]}, 'c_proj': {'b': [768], 'w': [768, 768]}}, 'ln_1': {'b': [768], 'g': [768]}, 'ln_2': {'b': [768], 'g': [768]}, 'mlp': {'c_fc': {'b': [3072], 'w': [768, 3072]}, 'c_proj': {'b': [768], 'w': [3072, 768]}}}, {'attn': {'c_attn': {'b': [2304], 'w': [768, 2304]}, 'c_proj': {'b': [768], 'w': [768, 768]}}, 'ln_1': {'b': [768], 'g': [768]}, 'ln_2': {'b': [768], 'g': [768]}, 'mlp': {'c_fc': {'b': [3072], 'w': [768, 3072]}, 'c_proj': {'b': [768], 'w': [3072, 768]}}}, {'attn': {'c_attn': {'b': [2304], 'w': [768, 2304]}, 'c_proj': {'b': [768], 'w': [768, 768]}}, 'ln_1': {'b': [768], 'g': [768]}, 'ln_2': {'b': [768], 'g': [768]}, 'mlp': {'c_fc': {'b': [3072], 'w': [768, 3072]}, 'c_proj': {'b': [768], 'w': [3072, 768]}}}, {'attn': {'c_attn': {'b': [2304], 'w': [768, 2304]}, 'c_proj': {'b': [768], 'w': [768, 768]}}, 'ln_1': {'b': [768], 'g': [768]}, 'ln_2': {'b': [768], 'g': [768]}, 'mlp': {'c_fc': {'b': [3072], 'w': [768, 3072]}, 'c_proj': {'b': [768], 'w': [3072, 768]}}}, {'attn': {'c_attn': {'b': [2304], 'w': [768, 2304]}, 'c_proj': {'b': [768], 'w': [768, 768]}}, 'ln_1': {'b': [768], 'g': [768]}, 'ln_2': {'b': [768], 'g': [768]}, 'mlp': {'c_fc': {'b': [3072], 'w': [768, 3072]}, 'c_proj': {'b': [768], 'w': [3072, 768]}}}], 'ln_f': {'b': [768], 'g': [768]}, 'wpe': [1024, 768], 'wte': [50257, 768]}\n"
     ]
    }
   ],
   "source": [
    "import numpy as np\n",
    "def shape_tree(d):\n",
    "    if isinstance(d, np.ndarray):\n",
    "        return list(d.shape)\n",
    "    elif isinstance(d, list):\n",
    "        return [shape_tree(v) for v in d]\n",
    "    elif isinstance(d, dict):\n",
    "        return {k: shape_tree(v) for k, v in d.items()}\n",
    "    else:\n",
    "        ValueError(\"uh oh\")\n",
    "\n",
    "print(shape_tree(params))"
   ]
  },
  {
   "cell_type": "code",
   "execution_count": 11,
   "metadata": {},
   "outputs": [
    {
     "name": "stdout",
     "output_type": "stream",
     "text": [
      "model/h0/attn/c_attn/b: (2304,)\n",
      "model/h0/attn/c_attn/w: (768, 2304)\n",
      "model/h0/attn/c_proj/b: (768,)\n",
      "model/h0/attn/c_proj/w: (768, 768)\n",
      "model/h0/ln_1/b: (768,)\n",
      "model/h0/ln_1/g: (768,)\n",
      "model/h0/ln_2/b: (768,)\n",
      "model/h0/ln_2/g: (768,)\n",
      "model/h0/mlp/c_fc/b: (3072,)\n",
      "model/h0/mlp/c_fc/w: (768, 3072)\n",
      "model/h0/mlp/c_proj/b: (768,)\n",
      "model/h0/mlp/c_proj/w: (3072, 768)\n",
      "model/h1/attn/c_attn/b: (2304,)\n",
      "model/h1/attn/c_attn/w: (768, 2304)\n",
      "model/h1/attn/c_proj/b: (768,)\n",
      "model/h1/attn/c_proj/w: (768, 768)\n",
      "model/h1/ln_1/b: (768,)\n",
      "model/h1/ln_1/g: (768,)\n",
      "model/h1/ln_2/b: (768,)\n",
      "model/h1/ln_2/g: (768,)\n",
      "model/h1/mlp/c_fc/b: (3072,)\n",
      "model/h1/mlp/c_fc/w: (768, 3072)\n",
      "model/h1/mlp/c_proj/b: (768,)\n",
      "model/h1/mlp/c_proj/w: (3072, 768)\n",
      "model/h10/attn/c_attn/b: (2304,)\n",
      "model/h10/attn/c_attn/w: (768, 2304)\n",
      "model/h10/attn/c_proj/b: (768,)\n",
      "model/h10/attn/c_proj/w: (768, 768)\n",
      "model/h10/ln_1/b: (768,)\n",
      "model/h10/ln_1/g: (768,)\n",
      "model/h10/ln_2/b: (768,)\n",
      "model/h10/ln_2/g: (768,)\n",
      "model/h10/mlp/c_fc/b: (3072,)\n",
      "model/h10/mlp/c_fc/w: (768, 3072)\n",
      "model/h10/mlp/c_proj/b: (768,)\n",
      "model/h10/mlp/c_proj/w: (3072, 768)\n",
      "model/h11/attn/c_attn/b: (2304,)\n",
      "model/h11/attn/c_attn/w: (768, 2304)\n",
      "model/h11/attn/c_proj/b: (768,)\n",
      "model/h11/attn/c_proj/w: (768, 768)\n",
      "model/h11/ln_1/b: (768,)\n",
      "model/h11/ln_1/g: (768,)\n",
      "model/h11/ln_2/b: (768,)\n",
      "model/h11/ln_2/g: (768,)\n",
      "model/h11/mlp/c_fc/b: (3072,)\n",
      "model/h11/mlp/c_fc/w: (768, 3072)\n",
      "model/h11/mlp/c_proj/b: (768,)\n",
      "model/h11/mlp/c_proj/w: (3072, 768)\n",
      "model/h2/attn/c_attn/b: (2304,)\n",
      "model/h2/attn/c_attn/w: (768, 2304)\n",
      "model/h2/attn/c_proj/b: (768,)\n",
      "model/h2/attn/c_proj/w: (768, 768)\n",
      "model/h2/ln_1/b: (768,)\n",
      "model/h2/ln_1/g: (768,)\n",
      "model/h2/ln_2/b: (768,)\n",
      "model/h2/ln_2/g: (768,)\n",
      "model/h2/mlp/c_fc/b: (3072,)\n",
      "model/h2/mlp/c_fc/w: (768, 3072)\n",
      "model/h2/mlp/c_proj/b: (768,)\n",
      "model/h2/mlp/c_proj/w: (3072, 768)\n",
      "model/h3/attn/c_attn/b: (2304,)\n",
      "model/h3/attn/c_attn/w: (768, 2304)\n",
      "model/h3/attn/c_proj/b: (768,)\n",
      "model/h3/attn/c_proj/w: (768, 768)\n",
      "model/h3/ln_1/b: (768,)\n",
      "model/h3/ln_1/g: (768,)\n",
      "model/h3/ln_2/b: (768,)\n",
      "model/h3/ln_2/g: (768,)\n",
      "model/h3/mlp/c_fc/b: (3072,)\n",
      "model/h3/mlp/c_fc/w: (768, 3072)\n",
      "model/h3/mlp/c_proj/b: (768,)\n",
      "model/h3/mlp/c_proj/w: (3072, 768)\n",
      "model/h4/attn/c_attn/b: (2304,)\n",
      "model/h4/attn/c_attn/w: (768, 2304)\n",
      "model/h4/attn/c_proj/b: (768,)\n",
      "model/h4/attn/c_proj/w: (768, 768)\n",
      "model/h4/ln_1/b: (768,)\n",
      "model/h4/ln_1/g: (768,)\n",
      "model/h4/ln_2/b: (768,)\n",
      "model/h4/ln_2/g: (768,)\n",
      "model/h4/mlp/c_fc/b: (3072,)\n",
      "model/h4/mlp/c_fc/w: (768, 3072)\n",
      "model/h4/mlp/c_proj/b: (768,)\n",
      "model/h4/mlp/c_proj/w: (3072, 768)\n",
      "model/h5/attn/c_attn/b: (2304,)\n",
      "model/h5/attn/c_attn/w: (768, 2304)\n",
      "model/h5/attn/c_proj/b: (768,)\n",
      "model/h5/attn/c_proj/w: (768, 768)\n",
      "model/h5/ln_1/b: (768,)\n",
      "model/h5/ln_1/g: (768,)\n",
      "model/h5/ln_2/b: (768,)\n",
      "model/h5/ln_2/g: (768,)\n",
      "model/h5/mlp/c_fc/b: (3072,)\n",
      "model/h5/mlp/c_fc/w: (768, 3072)\n",
      "model/h5/mlp/c_proj/b: (768,)\n",
      "model/h5/mlp/c_proj/w: (3072, 768)\n",
      "model/h6/attn/c_attn/b: (2304,)\n",
      "model/h6/attn/c_attn/w: (768, 2304)\n",
      "model/h6/attn/c_proj/b: (768,)\n",
      "model/h6/attn/c_proj/w: (768, 768)\n",
      "model/h6/ln_1/b: (768,)\n",
      "model/h6/ln_1/g: (768,)\n",
      "model/h6/ln_2/b: (768,)\n",
      "model/h6/ln_2/g: (768,)\n",
      "model/h6/mlp/c_fc/b: (3072,)\n",
      "model/h6/mlp/c_fc/w: (768, 3072)\n",
      "model/h6/mlp/c_proj/b: (768,)\n",
      "model/h6/mlp/c_proj/w: (3072, 768)\n",
      "model/h7/attn/c_attn/b: (2304,)\n",
      "model/h7/attn/c_attn/w: (768, 2304)\n",
      "model/h7/attn/c_proj/b: (768,)\n",
      "model/h7/attn/c_proj/w: (768, 768)\n",
      "model/h7/ln_1/b: (768,)\n",
      "model/h7/ln_1/g: (768,)\n",
      "model/h7/ln_2/b: (768,)\n",
      "model/h7/ln_2/g: (768,)\n",
      "model/h7/mlp/c_fc/b: (3072,)\n",
      "model/h7/mlp/c_fc/w: (768, 3072)\n",
      "model/h7/mlp/c_proj/b: (768,)\n",
      "model/h7/mlp/c_proj/w: (3072, 768)\n",
      "model/h8/attn/c_attn/b: (2304,)\n",
      "model/h8/attn/c_attn/w: (768, 2304)\n",
      "model/h8/attn/c_proj/b: (768,)\n",
      "model/h8/attn/c_proj/w: (768, 768)\n",
      "model/h8/ln_1/b: (768,)\n",
      "model/h8/ln_1/g: (768,)\n",
      "model/h8/ln_2/b: (768,)\n",
      "model/h8/ln_2/g: (768,)\n",
      "model/h8/mlp/c_fc/b: (3072,)\n",
      "model/h8/mlp/c_fc/w: (768, 3072)\n",
      "model/h8/mlp/c_proj/b: (768,)\n",
      "model/h8/mlp/c_proj/w: (3072, 768)\n",
      "model/h9/attn/c_attn/b: (2304,)\n",
      "model/h9/attn/c_attn/w: (768, 2304)\n",
      "model/h9/attn/c_proj/b: (768,)\n",
      "model/h9/attn/c_proj/w: (768, 768)\n",
      "model/h9/ln_1/b: (768,)\n",
      "model/h9/ln_1/g: (768,)\n",
      "model/h9/ln_2/b: (768,)\n",
      "model/h9/ln_2/g: (768,)\n",
      "model/h9/mlp/c_fc/b: (3072,)\n",
      "model/h9/mlp/c_fc/w: (768, 3072)\n",
      "model/h9/mlp/c_proj/b: (768,)\n",
      "model/h9/mlp/c_proj/w: (3072, 768)\n",
      "model/ln_f/b: (768,)\n",
      "model/ln_f/g: (768,)\n",
      "model/wpe: (1024, 768)\n",
      "model/wte: (50257, 768)\n"
     ]
    }
   ],
   "source": [
    "import tensorflow as tf\n",
    "tf_ckpt_path = tf.train.latest_checkpoint(\"models/124M\")\n",
    "for name, _ in tf.train.list_variables(tf_ckpt_path):\n",
    "    arr = tf.train.load_variable(tf_ckpt_path, name).squeeze()\n",
    "    print(f\"{name}: {arr.shape}\")"
   ]
  }
 ],
 "metadata": {
  "kernelspec": {
   "display_name": ".venv",
   "language": "python",
   "name": "python3"
  },
  "language_info": {
   "codemirror_mode": {
    "name": "ipython",
    "version": 3
   },
   "file_extension": ".py",
   "mimetype": "text/x-python",
   "name": "python",
   "nbconvert_exporter": "python",
   "pygments_lexer": "ipython3",
   "version": "3.9.6"
  }
 },
 "nbformat": 4,
 "nbformat_minor": 2
}
